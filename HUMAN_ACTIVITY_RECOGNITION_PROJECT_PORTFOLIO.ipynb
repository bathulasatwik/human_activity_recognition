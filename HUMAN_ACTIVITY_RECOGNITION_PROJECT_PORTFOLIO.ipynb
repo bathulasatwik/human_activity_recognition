{
 "cells": [
  {
   "cell_type": "code",
   "execution_count": 1,
   "id": "92389e3e",
   "metadata": {},
   "outputs": [],
   "source": [
    "import os\n",
    "import cv2\n",
    "import math\n",
    "import random\n",
    "import numpy as np\n",
    "import tensorflow as tf\n",
    "import matplotlib.pyplot as plt\n",
    "%matplotlib inline\n",
    "from sklearn.model_selection import train_test_split\n",
    "from tensorflow.keras.layers import *\n",
    "from tensorflow.keras.models import Sequential\n",
    "from tensorflow.keras.utils import to_categorical"
   ]
  },
  {
   "cell_type": "code",
   "execution_count": 2,
   "id": "66e19d2f",
   "metadata": {},
   "outputs": [],
   "source": [
    "image_height, image_width = 64,64"
   ]
  },
  {
   "cell_type": "code",
   "execution_count": 3,
   "id": "38f8ed5f",
   "metadata": {},
   "outputs": [],
   "source": [
    "sequencelength = 20"
   ]
  },
  {
   "cell_type": "code",
   "execution_count": 4,
   "id": "c53a1665",
   "metadata": {},
   "outputs": [],
   "source": [
    "data_directory = r\"C:\\Users\\bathu\\UCF50\""
   ]
  },
  {
   "cell_type": "code",
   "execution_count": 8,
   "id": "c4d81f64",
   "metadata": {},
   "outputs": [],
   "source": [
    "classes_list = ['BaseballPitch','Basketball','BreastStroke','GolfSwing']"
   ]
  },
  {
   "cell_type": "code",
   "execution_count": 9,
   "id": "38127ce0",
   "metadata": {},
   "outputs": [],
   "source": [
    "def frames_extraction(video_path):\n",
    "    frames_list = []\n",
    "    video_reader = cv2.VideoCapture(video_path)\n",
    "    frames_in_video = int(video_reader.get(cv2.CAP_PROP_FRAME_COUNT))\n",
    "    frames_to_skip = max(int(frames_in_video / sequencelength), 1)\n",
    "    for frame_counter in range(sequencelength):\n",
    "        video_reader.set(cv2.CAP_PROP_POS_FRAMES, frame_counter * frames_to_skip)\n",
    "        success, frame = video_reader.read()\n",
    "        if not success:\n",
    "            break\n",
    "        resized_frame = cv2.resize(frame, (image_height, image_width))\n",
    "        normalized_frame = resized_frame / 255\n",
    "        frames_list.append(normalized_frame)\n",
    "    video_reader.release()\n",
    "    return frames_list\n"
   ]
  },
  {
   "cell_type": "code",
   "execution_count": 10,
   "id": "06abe5f2",
   "metadata": {},
   "outputs": [
    {
     "name": "stdout",
     "output_type": "stream",
     "text": [
      "Extracting Data of BaseballPitch\n",
      "Extracting Data of Basketball\n",
      "Extracting Data of BreastStroke\n",
      "Extracting Data of GolfSwing\n"
     ]
    }
   ],
   "source": [
    "inputs = []\n",
    "labels = []\n",
    "for class_index, class_name in enumerate(classes_list):\n",
    "    print(f'Extracting Data of {class_name}')\n",
    "    files_list = os.listdir(os.path.join(data_directory, class_name))\n",
    "    for file_name in files_list:\n",
    "        video_file_path = os.path.join(data_directory, class_name, file_name)\n",
    "        frames = frames_extraction(video_file_path)\n",
    "        if len(frames) == sequencelength:\n",
    "            inputs.append(frames)\n",
    "            labels.append(class_index)\n",
    "\n",
    "inputs = np.asarray(inputs)\n",
    "labels = np.array(labels)\n"
   ]
  },
  {
   "cell_type": "code",
   "execution_count": 11,
   "id": "1aff1a19",
   "metadata": {},
   "outputs": [],
   "source": [
    "labels = to_categorical(labels)"
   ]
  },
  {
   "cell_type": "code",
   "execution_count": 12,
   "id": "5f17e92f",
   "metadata": {},
   "outputs": [
    {
     "data": {
      "text/plain": [
       "array([[1., 0., 0., 0.],\n",
       "       [1., 0., 0., 0.],\n",
       "       [1., 0., 0., 0.],\n",
       "       ...,\n",
       "       [0., 0., 0., 1.],\n",
       "       [0., 0., 0., 1.],\n",
       "       [0., 0., 0., 1.]], dtype=float32)"
      ]
     },
     "execution_count": 12,
     "metadata": {},
     "output_type": "execute_result"
    }
   ],
   "source": [
    "labels"
   ]
  },
  {
   "cell_type": "code",
   "execution_count": 13,
   "id": "3e91cf56",
   "metadata": {},
   "outputs": [],
   "source": [
    "inputs_train, inputs_test, labels_train, labels_test = train_test_split(inputs, labels,\n",
    "                                                                            test_size = 0.25, shuffle = True,\n",
    "                                                                            random_state = 42)"
   ]
  },
  {
   "cell_type": "markdown",
   "id": "272df5b7",
   "metadata": {},
   "source": [
    "CONVLSTM"
   ]
  },
  {
   "cell_type": "code",
   "execution_count": 14,
   "id": "1d557a30",
   "metadata": {},
   "outputs": [],
   "source": [
    "model = Sequential()\n",
    "model.add(ConvLSTM2D(filters = 4, kernel_size = (3, 3), activation = 'tanh',data_format = \"channels_last\",\n",
    "                         recurrent_dropout=0.2, return_sequences=True, input_shape = (sequencelength,\n",
    "                                                                                      image_height, image_width, 3)))\n",
    "model.add(MaxPooling3D(pool_size=(1, 2, 2), padding='same', data_format='channels_last'))\n",
    "model.add(TimeDistributed(Dropout(0.2)))\n",
    "model.add(ConvLSTM2D(filters = 8, kernel_size = (3, 3), activation = 'tanh', data_format = \"channels_last\",\n",
    "                         recurrent_dropout=0.2, return_sequences=True))\n",
    "model.add(MaxPooling3D(pool_size=(1, 2, 2), padding='same', data_format='channels_last'))\n",
    "model.add(TimeDistributed(Dropout(0.2)))\n",
    "model.add(ConvLSTM2D(filters = 14, kernel_size = (3, 3), activation = 'tanh', data_format = \"channels_last\",\n",
    "recurrent_dropout=0.2, return_sequences=True))\n",
    "model.add(MaxPooling3D(pool_size=(1, 2, 2), padding='same', data_format='channels_last'))\n",
    "model.add(TimeDistributed(Dropout(0.2)))\n",
    "model.add(ConvLSTM2D(filters = 16, kernel_size = (3, 3), activation = 'tanh', data_format = \"channels_last\",\n",
    "recurrent_dropout=0.2, return_sequences=True))\n",
    "model.add(MaxPooling3D(pool_size=(1, 2, 2), padding='same', data_format='channels_last'))\n",
    "model.add(TimeDistributed(Dropout(0.2)))\n",
    "model.add(Flatten()) \n",
    "model.add(Dense(len(classes_list), activation = \"softmax\"))\n",
    "model.compile(loss = 'categorical_crossentropy', optimizer = 'Adam', metrics = [\"accuracy\"])\n",
    " "
   ]
  },
  {
   "cell_type": "code",
   "execution_count": 15,
   "id": "3b2c73ef",
   "metadata": {},
   "outputs": [
    {
     "name": "stdout",
     "output_type": "stream",
     "text": [
      "Epoch 1/50\n",
      "80/80 [==============================] - 248s 3s/step - loss: 1.3124 - accuracy: 0.3533 - val_loss: 1.0188 - val_accuracy: 0.5125\n",
      "Epoch 2/50\n",
      "80/80 [==============================] - 140s 2s/step - loss: 0.8794 - accuracy: 0.5836 - val_loss: 0.7664 - val_accuracy: 0.6375\n",
      "Epoch 3/50\n",
      "80/80 [==============================] - 71s 895ms/step - loss: 0.6869 - accuracy: 0.7066 - val_loss: 0.5884 - val_accuracy: 0.7125\n",
      "Epoch 4/50\n",
      "80/80 [==============================] - 76s 950ms/step - loss: 0.5692 - accuracy: 0.7603 - val_loss: 0.4593 - val_accuracy: 0.7875\n",
      "Epoch 5/50\n",
      "80/80 [==============================] - 143s 2s/step - loss: 0.4811 - accuracy: 0.8233 - val_loss: 0.3850 - val_accuracy: 0.7625\n",
      "Epoch 6/50\n",
      "80/80 [==============================] - 136s 2s/step - loss: 0.3714 - accuracy: 0.8580 - val_loss: 0.4463 - val_accuracy: 0.8250\n",
      "Epoch 7/50\n",
      "80/80 [==============================] - 111s 1s/step - loss: 0.3222 - accuracy: 0.8801 - val_loss: 0.3463 - val_accuracy: 0.8625\n",
      "Epoch 8/50\n",
      "80/80 [==============================] - 107s 1s/step - loss: 0.2712 - accuracy: 0.8927 - val_loss: 0.6229 - val_accuracy: 0.7750\n",
      "Epoch 9/50\n",
      "80/80 [==============================] - 107s 1s/step - loss: 0.2006 - accuracy: 0.9274 - val_loss: 0.2730 - val_accuracy: 0.8875\n",
      "Epoch 10/50\n",
      "80/80 [==============================] - 113s 1s/step - loss: 0.1035 - accuracy: 0.9621 - val_loss: 0.4087 - val_accuracy: 0.8250\n",
      "Epoch 11/50\n",
      "80/80 [==============================] - 105s 1s/step - loss: 0.1617 - accuracy: 0.9338 - val_loss: 0.2330 - val_accuracy: 0.8875\n",
      "Epoch 12/50\n",
      "80/80 [==============================] - 122s 2s/step - loss: 0.0918 - accuracy: 0.9748 - val_loss: 0.2973 - val_accuracy: 0.8875\n",
      "Epoch 13/50\n",
      "80/80 [==============================] - 113s 1s/step - loss: 0.0577 - accuracy: 0.9874 - val_loss: 0.3471 - val_accuracy: 0.8750\n",
      "Epoch 14/50\n",
      "80/80 [==============================] - 111s 1s/step - loss: 0.0512 - accuracy: 0.9905 - val_loss: 0.2524 - val_accuracy: 0.9250\n",
      "Epoch 15/50\n",
      "80/80 [==============================] - 113s 1s/step - loss: 0.0555 - accuracy: 0.9842 - val_loss: 0.2491 - val_accuracy: 0.9250\n",
      "Epoch 16/50\n",
      "80/80 [==============================] - 113s 1s/step - loss: 0.0134 - accuracy: 1.0000 - val_loss: 0.1465 - val_accuracy: 0.9375\n",
      "Epoch 17/50\n",
      "80/80 [==============================] - 115s 1s/step - loss: 0.0064 - accuracy: 1.0000 - val_loss: 0.1864 - val_accuracy: 0.9250\n",
      "Epoch 18/50\n",
      "80/80 [==============================] - 127s 2s/step - loss: 0.0055 - accuracy: 1.0000 - val_loss: 0.1681 - val_accuracy: 0.9250\n",
      "Epoch 19/50\n",
      "80/80 [==============================] - 139s 2s/step - loss: 0.0070 - accuracy: 1.0000 - val_loss: 0.1639 - val_accuracy: 0.9500\n",
      "Epoch 20/50\n",
      "80/80 [==============================] - 113s 1s/step - loss: 0.0075 - accuracy: 1.0000 - val_loss: 0.3348 - val_accuracy: 0.9000\n",
      "Epoch 21/50\n",
      "80/80 [==============================] - 116s 1s/step - loss: 0.0053 - accuracy: 1.0000 - val_loss: 0.2157 - val_accuracy: 0.9375\n",
      "Epoch 22/50\n",
      "80/80 [==============================] - 116s 1s/step - loss: 0.0017 - accuracy: 1.0000 - val_loss: 0.2333 - val_accuracy: 0.9250\n",
      "Epoch 23/50\n",
      "80/80 [==============================] - 117s 1s/step - loss: 0.0014 - accuracy: 1.0000 - val_loss: 0.2849 - val_accuracy: 0.9250\n",
      "Epoch 24/50\n",
      "80/80 [==============================] - 118s 1s/step - loss: 7.2389e-04 - accuracy: 1.0000 - val_loss: 0.2437 - val_accuracy: 0.9250\n",
      "Epoch 25/50\n",
      "80/80 [==============================] - 117s 1s/step - loss: 7.1697e-04 - accuracy: 1.0000 - val_loss: 0.2557 - val_accuracy: 0.9250\n",
      "Epoch 26/50\n",
      "80/80 [==============================] - 115s 1s/step - loss: 6.0310e-04 - accuracy: 1.0000 - val_loss: 0.2567 - val_accuracy: 0.9250\n",
      "Epoch 27/50\n",
      "80/80 [==============================] - 119s 1s/step - loss: 6.2620e-04 - accuracy: 1.0000 - val_loss: 0.2600 - val_accuracy: 0.9250\n",
      "Epoch 28/50\n",
      "80/80 [==============================] - 118s 1s/step - loss: 5.0848e-04 - accuracy: 1.0000 - val_loss: 0.2452 - val_accuracy: 0.9250\n",
      "Epoch 29/50\n",
      "80/80 [==============================] - 120s 2s/step - loss: 4.6844e-04 - accuracy: 1.0000 - val_loss: 0.2612 - val_accuracy: 0.9250\n",
      "Epoch 30/50\n",
      "80/80 [==============================] - 118s 1s/step - loss: 8.0431e-04 - accuracy: 1.0000 - val_loss: 0.2527 - val_accuracy: 0.9250\n",
      "Epoch 31/50\n",
      "80/80 [==============================] - 106s 1s/step - loss: 5.3459e-04 - accuracy: 1.0000 - val_loss: 0.2890 - val_accuracy: 0.9125\n",
      "Epoch 32/50\n",
      "80/80 [==============================] - 143s 2s/step - loss: 5.2031e-04 - accuracy: 1.0000 - val_loss: 0.2366 - val_accuracy: 0.9250\n",
      "Epoch 33/50\n",
      "80/80 [==============================] - 107s 1s/step - loss: 2.8307e-04 - accuracy: 1.0000 - val_loss: 0.2530 - val_accuracy: 0.9250\n",
      "Epoch 34/50\n",
      "80/80 [==============================] - 140s 2s/step - loss: 3.3273e-04 - accuracy: 1.0000 - val_loss: 0.2375 - val_accuracy: 0.9250\n",
      "Epoch 35/50\n",
      "80/80 [==============================] - 87s 1s/step - loss: 2.6830e-04 - accuracy: 1.0000 - val_loss: 0.2320 - val_accuracy: 0.9250\n",
      "Epoch 36/50\n",
      "80/80 [==============================] - 127s 2s/step - loss: 2.2434e-04 - accuracy: 1.0000 - val_loss: 0.2357 - val_accuracy: 0.9375\n",
      "Epoch 37/50\n",
      "80/80 [==============================] - 130s 2s/step - loss: 3.2353e-04 - accuracy: 1.0000 - val_loss: 0.2636 - val_accuracy: 0.9250\n",
      "Epoch 38/50\n",
      "80/80 [==============================] - 88s 1s/step - loss: 2.4640e-04 - accuracy: 1.0000 - val_loss: 0.2608 - val_accuracy: 0.9375\n",
      "Epoch 39/50\n",
      "80/80 [==============================] - 128s 2s/step - loss: 3.5475e-04 - accuracy: 1.0000 - val_loss: 0.2988 - val_accuracy: 0.9125\n",
      "Epoch 40/50\n",
      "80/80 [==============================] - 100s 1s/step - loss: 1.7874e-04 - accuracy: 1.0000 - val_loss: 0.2838 - val_accuracy: 0.9250\n",
      "Epoch 41/50\n",
      "80/80 [==============================] - 105s 1s/step - loss: 1.3791e-04 - accuracy: 1.0000 - val_loss: 0.2732 - val_accuracy: 0.9375\n",
      "Epoch 42/50\n",
      "80/80 [==============================] - 125s 2s/step - loss: 1.0871e-04 - accuracy: 1.0000 - val_loss: 0.2790 - val_accuracy: 0.9375\n",
      "Epoch 43/50\n",
      "80/80 [==============================] - 127s 2s/step - loss: 1.2530e-04 - accuracy: 1.0000 - val_loss: 0.2907 - val_accuracy: 0.9250\n",
      "Epoch 44/50\n",
      "80/80 [==============================] - 124s 2s/step - loss: 2.3256e-04 - accuracy: 1.0000 - val_loss: 0.3273 - val_accuracy: 0.9125\n",
      "Epoch 45/50\n",
      "80/80 [==============================] - 125s 2s/step - loss: 8.4543e-05 - accuracy: 1.0000 - val_loss: 0.3318 - val_accuracy: 0.9250\n",
      "Epoch 46/50\n",
      "80/80 [==============================] - 126s 2s/step - loss: 6.0068e-05 - accuracy: 1.0000 - val_loss: 0.3409 - val_accuracy: 0.9125\n",
      "Epoch 47/50\n",
      "80/80 [==============================] - 119s 1s/step - loss: 9.3534e-05 - accuracy: 1.0000 - val_loss: 0.3084 - val_accuracy: 0.9250\n",
      "Epoch 48/50\n",
      "80/80 [==============================] - 123s 2s/step - loss: 1.4256e-04 - accuracy: 1.0000 - val_loss: 0.3130 - val_accuracy: 0.9250\n",
      "Epoch 49/50\n",
      "80/80 [==============================] - 123s 2s/step - loss: 9.4878e-05 - accuracy: 1.0000 - val_loss: 0.3064 - val_accuracy: 0.9250\n",
      "Epoch 50/50\n",
      "80/80 [==============================] - 131s 2s/step - loss: 8.6128e-05 - accuracy: 1.0000 - val_loss: 0.3130 - val_accuracy: 0.9375\n"
     ]
    },
    {
     "data": {
      "text/plain": [
       "<keras.callbacks.History at 0x2a673ad6620>"
      ]
     },
     "execution_count": 15,
     "metadata": {},
     "output_type": "execute_result"
    }
   ],
   "source": [
    "model.fit(x = inputs_train, y = labels_train, epochs = 50, batch_size = 4,\n",
    "                                                     shuffle = True, validation_split = 0.2, \n",
    "                                                     )"
   ]
  },
  {
   "cell_type": "code",
   "execution_count": 16,
   "id": "8dd77dd0",
   "metadata": {},
   "outputs": [
    {
     "name": "stdout",
     "output_type": "stream",
     "text": [
      "5/5 [==============================] - 6s 997ms/step - loss: 0.5329 - accuracy: 0.9173\n"
     ]
    },
    {
     "data": {
      "text/plain": [
       "[0.5329467058181763, 0.9172932505607605]"
      ]
     },
     "execution_count": 16,
     "metadata": {},
     "output_type": "execute_result"
    }
   ],
   "source": [
    "model.evaluate(inputs_test, labels_test)"
   ]
  },
  {
   "cell_type": "markdown",
   "id": "da69ec80",
   "metadata": {},
   "source": [
    "LRCN"
   ]
  },
  {
   "cell_type": "code",
   "execution_count": 17,
   "id": "389274a6",
   "metadata": {},
   "outputs": [],
   "source": [
    "lrcn = Sequential()\n",
    "lrcn.add(TimeDistributed(Conv2D(16, (3, 3), padding='same',activation = 'relu'),\n",
    "                              input_shape = (sequencelength,image_height,image_width, 3)))\n",
    "lrcn.add(TimeDistributed(MaxPooling2D((4, 4)))) \n",
    "lrcn.add(TimeDistributed(Dropout(0.25)))\n",
    "lrcn.add(TimeDistributed(Conv2D(32, (3, 3), padding='same',activation = 'relu')))\n",
    "lrcn.add(TimeDistributed(MaxPooling2D((4, 4))))\n",
    "lrcn.add(TimeDistributed(Dropout(0.25)))\n",
    "lrcn.add(TimeDistributed(Conv2D(64, (3, 3), padding='same',activation = 'relu')))\n",
    "lrcn.add(TimeDistributed(MaxPooling2D((2, 2))))\n",
    "lrcn.add(TimeDistributed(Dropout(0.25)))\n",
    "lrcn.add(TimeDistributed(Conv2D(64, (3, 3), padding='same',activation = 'relu')))\n",
    "lrcn.add(TimeDistributed(MaxPooling2D((2, 2))))\n",
    "lrcn.add(TimeDistributed(Dropout(0.25)))\n",
    "lrcn.add(TimeDistributed(Flatten()))\n",
    "lrcn.add(LSTM(32))\n",
    "lrcn.add(Dense(len(classes_list), activation = 'softmax'))\n",
    "lrcn.compile(loss = 'categorical_crossentropy', optimizer = 'Adam', metrics = [\"accuracy\"])\n"
   ]
  },
  {
   "cell_type": "code",
   "execution_count": 18,
   "id": "b023d07c",
   "metadata": {},
   "outputs": [
    {
     "name": "stdout",
     "output_type": "stream",
     "text": [
      "Epoch 1/50\n",
      "80/80 [==============================] - 12s 124ms/step - loss: 1.3544 - accuracy: 0.3123 - val_loss: 1.2649 - val_accuracy: 0.4625\n",
      "Epoch 2/50\n",
      "80/80 [==============================] - 6s 80ms/step - loss: 1.0636 - accuracy: 0.5016 - val_loss: 0.8997 - val_accuracy: 0.4875\n",
      "Epoch 3/50\n",
      "80/80 [==============================] - 6s 70ms/step - loss: 0.8951 - accuracy: 0.5741 - val_loss: 0.7883 - val_accuracy: 0.6125\n",
      "Epoch 4/50\n",
      "80/80 [==============================] - 4s 55ms/step - loss: 0.7487 - accuracy: 0.6246 - val_loss: 0.7918 - val_accuracy: 0.5875\n",
      "Epoch 5/50\n",
      "80/80 [==============================] - 4s 51ms/step - loss: 0.6838 - accuracy: 0.7161 - val_loss: 0.7989 - val_accuracy: 0.5875\n",
      "Epoch 6/50\n",
      "80/80 [==============================] - 4s 56ms/step - loss: 0.6234 - accuracy: 0.7319 - val_loss: 0.4793 - val_accuracy: 0.7750\n",
      "Epoch 7/50\n",
      "80/80 [==============================] - 4s 55ms/step - loss: 0.5584 - accuracy: 0.7571 - val_loss: 0.4928 - val_accuracy: 0.8125\n",
      "Epoch 8/50\n",
      "80/80 [==============================] - 5s 56ms/step - loss: 0.3930 - accuracy: 0.8517 - val_loss: 0.6283 - val_accuracy: 0.7250\n",
      "Epoch 9/50\n",
      "80/80 [==============================] - 5s 61ms/step - loss: 0.4379 - accuracy: 0.8391 - val_loss: 0.3304 - val_accuracy: 0.8875\n",
      "Epoch 10/50\n",
      "80/80 [==============================] - 5s 64ms/step - loss: 0.3288 - accuracy: 0.8896 - val_loss: 0.2843 - val_accuracy: 0.8875\n",
      "Epoch 11/50\n",
      "80/80 [==============================] - 5s 65ms/step - loss: 0.2219 - accuracy: 0.9211 - val_loss: 0.2550 - val_accuracy: 0.9375\n",
      "Epoch 12/50\n",
      "80/80 [==============================] - 6s 73ms/step - loss: 0.2422 - accuracy: 0.9180 - val_loss: 0.2333 - val_accuracy: 0.9125\n",
      "Epoch 13/50\n",
      "80/80 [==============================] - 7s 82ms/step - loss: 0.2122 - accuracy: 0.9211 - val_loss: 0.2759 - val_accuracy: 0.9125\n",
      "Epoch 14/50\n",
      "80/80 [==============================] - 7s 89ms/step - loss: 0.1732 - accuracy: 0.9432 - val_loss: 0.2474 - val_accuracy: 0.9250\n",
      "Epoch 15/50\n",
      "80/80 [==============================] - 8s 97ms/step - loss: 0.1104 - accuracy: 0.9621 - val_loss: 0.2577 - val_accuracy: 0.8750\n",
      "Epoch 16/50\n",
      "80/80 [==============================] - 7s 90ms/step - loss: 0.0974 - accuracy: 0.9716 - val_loss: 0.2007 - val_accuracy: 0.9375\n",
      "Epoch 17/50\n",
      "80/80 [==============================] - 8s 98ms/step - loss: 0.1720 - accuracy: 0.9401 - val_loss: 0.5256 - val_accuracy: 0.8250\n",
      "Epoch 18/50\n",
      "80/80 [==============================] - 7s 89ms/step - loss: 0.0801 - accuracy: 0.9842 - val_loss: 0.2267 - val_accuracy: 0.9375\n",
      "Epoch 19/50\n",
      "80/80 [==============================] - 8s 94ms/step - loss: 0.0864 - accuracy: 0.9779 - val_loss: 0.4068 - val_accuracy: 0.8250\n",
      "Epoch 20/50\n",
      "80/80 [==============================] - 7s 90ms/step - loss: 0.1047 - accuracy: 0.9653 - val_loss: 0.2562 - val_accuracy: 0.9375\n",
      "Epoch 21/50\n",
      "80/80 [==============================] - 7s 91ms/step - loss: 0.0831 - accuracy: 0.9716 - val_loss: 0.1814 - val_accuracy: 0.9625\n",
      "Epoch 22/50\n",
      "80/80 [==============================] - 7s 93ms/step - loss: 0.0494 - accuracy: 0.9874 - val_loss: 0.2163 - val_accuracy: 0.9375\n",
      "Epoch 23/50\n",
      "80/80 [==============================] - 7s 91ms/step - loss: 0.0521 - accuracy: 0.9842 - val_loss: 0.4325 - val_accuracy: 0.9000\n",
      "Epoch 24/50\n",
      "80/80 [==============================] - 9s 108ms/step - loss: 0.1003 - accuracy: 0.9621 - val_loss: 0.2775 - val_accuracy: 0.9375\n",
      "Epoch 25/50\n",
      "80/80 [==============================] - 8s 97ms/step - loss: 0.0292 - accuracy: 0.9937 - val_loss: 0.1952 - val_accuracy: 0.9625\n",
      "Epoch 26/50\n",
      "80/80 [==============================] - 8s 96ms/step - loss: 0.0102 - accuracy: 0.9968 - val_loss: 0.2204 - val_accuracy: 0.9500\n",
      "Epoch 27/50\n",
      "80/80 [==============================] - 7s 90ms/step - loss: 0.0112 - accuracy: 1.0000 - val_loss: 0.4656 - val_accuracy: 0.9000\n",
      "Epoch 28/50\n",
      "80/80 [==============================] - 8s 101ms/step - loss: 0.0954 - accuracy: 0.9716 - val_loss: 0.3962 - val_accuracy: 0.8250\n",
      "Epoch 29/50\n",
      "80/80 [==============================] - 7s 90ms/step - loss: 0.0262 - accuracy: 0.9968 - val_loss: 0.1546 - val_accuracy: 0.9500\n",
      "Epoch 30/50\n",
      "80/80 [==============================] - 8s 94ms/step - loss: 0.0135 - accuracy: 0.9968 - val_loss: 0.2694 - val_accuracy: 0.9125\n",
      "Epoch 31/50\n",
      "80/80 [==============================] - 7s 87ms/step - loss: 0.0849 - accuracy: 0.9716 - val_loss: 0.2543 - val_accuracy: 0.8875\n",
      "Epoch 32/50\n",
      "80/80 [==============================] - 8s 95ms/step - loss: 0.0141 - accuracy: 1.0000 - val_loss: 0.2398 - val_accuracy: 0.9125\n",
      "Epoch 33/50\n",
      "80/80 [==============================] - 7s 89ms/step - loss: 0.0037 - accuracy: 1.0000 - val_loss: 0.1757 - val_accuracy: 0.9375\n",
      "Epoch 34/50\n",
      "80/80 [==============================] - 7s 93ms/step - loss: 0.0026 - accuracy: 1.0000 - val_loss: 0.1773 - val_accuracy: 0.9375\n",
      "Epoch 35/50\n",
      "80/80 [==============================] - 7s 90ms/step - loss: 0.0023 - accuracy: 1.0000 - val_loss: 0.1730 - val_accuracy: 0.9375\n",
      "Epoch 36/50\n",
      "80/80 [==============================] - 8s 98ms/step - loss: 0.0019 - accuracy: 1.0000 - val_loss: 0.1756 - val_accuracy: 0.9375\n",
      "Epoch 37/50\n",
      "80/80 [==============================] - 9s 111ms/step - loss: 0.0015 - accuracy: 1.0000 - val_loss: 0.1761 - val_accuracy: 0.9375\n",
      "Epoch 38/50\n",
      "80/80 [==============================] - 8s 96ms/step - loss: 0.0013 - accuracy: 1.0000 - val_loss: 0.1728 - val_accuracy: 0.9375\n",
      "Epoch 39/50\n",
      "80/80 [==============================] - 7s 92ms/step - loss: 0.0013 - accuracy: 1.0000 - val_loss: 0.1698 - val_accuracy: 0.9375\n",
      "Epoch 40/50\n",
      "80/80 [==============================] - 7s 92ms/step - loss: 0.0011 - accuracy: 1.0000 - val_loss: 0.1642 - val_accuracy: 0.9500\n",
      "Epoch 41/50\n",
      "80/80 [==============================] - 7s 91ms/step - loss: 9.8406e-04 - accuracy: 1.0000 - val_loss: 0.1618 - val_accuracy: 0.9625\n",
      "Epoch 42/50\n",
      "80/80 [==============================] - 7s 90ms/step - loss: 9.5710e-04 - accuracy: 1.0000 - val_loss: 0.1632 - val_accuracy: 0.9625\n",
      "Epoch 43/50\n",
      "80/80 [==============================] - 7s 93ms/step - loss: 8.3437e-04 - accuracy: 1.0000 - val_loss: 0.1693 - val_accuracy: 0.9625\n",
      "Epoch 44/50\n",
      "80/80 [==============================] - 7s 89ms/step - loss: 7.7128e-04 - accuracy: 1.0000 - val_loss: 0.1738 - val_accuracy: 0.9625\n",
      "Epoch 45/50\n",
      "80/80 [==============================] - 8s 94ms/step - loss: 7.1301e-04 - accuracy: 1.0000 - val_loss: 0.1754 - val_accuracy: 0.9625\n",
      "Epoch 46/50\n",
      "80/80 [==============================] - 7s 87ms/step - loss: 6.2492e-04 - accuracy: 1.0000 - val_loss: 0.1777 - val_accuracy: 0.9625\n",
      "Epoch 47/50\n",
      "80/80 [==============================] - 7s 94ms/step - loss: 6.1368e-04 - accuracy: 1.0000 - val_loss: 0.1789 - val_accuracy: 0.9625\n",
      "Epoch 48/50\n",
      "80/80 [==============================] - 7s 89ms/step - loss: 5.7275e-04 - accuracy: 1.0000 - val_loss: 0.1774 - val_accuracy: 0.9625\n",
      "Epoch 49/50\n",
      "80/80 [==============================] - 7s 93ms/step - loss: 5.4667e-04 - accuracy: 1.0000 - val_loss: 0.1778 - val_accuracy: 0.9625\n",
      "Epoch 50/50\n",
      "80/80 [==============================] - 7s 90ms/step - loss: 5.0301e-04 - accuracy: 1.0000 - val_loss: 0.1787 - val_accuracy: 0.9625\n"
     ]
    },
    {
     "data": {
      "text/plain": [
       "<keras.callbacks.History at 0x2a674263a30>"
      ]
     },
     "execution_count": 18,
     "metadata": {},
     "output_type": "execute_result"
    }
   ],
   "source": [
    "lrcn.fit(x = inputs_train, y = labels_train, epochs = 50, batch_size = 4,\n",
    "                                                     shuffle = True, validation_split = 0.2, \n",
    "                                                     )"
   ]
  },
  {
   "cell_type": "code",
   "execution_count": 19,
   "id": "d0d3dfaa",
   "metadata": {},
   "outputs": [
    {
     "name": "stdout",
     "output_type": "stream",
     "text": [
      "5/5 [==============================] - 1s 67ms/step - loss: 0.2679 - accuracy: 0.9549\n"
     ]
    },
    {
     "data": {
      "text/plain": [
       "[0.26785728335380554, 0.9548872113227844]"
      ]
     },
     "execution_count": 19,
     "metadata": {},
     "output_type": "execute_result"
    }
   ],
   "source": [
    "lrcn.evaluate(inputs_test, labels_test)"
   ]
  },
  {
   "cell_type": "code",
   "execution_count": null,
   "id": "eff1e493",
   "metadata": {},
   "outputs": [],
   "source": []
  }
 ],
 "metadata": {
  "kernelspec": {
   "display_name": "Python 3 (ipykernel)",
   "language": "python",
   "name": "python3"
  },
  "language_info": {
   "codemirror_mode": {
    "name": "ipython",
    "version": 3
   },
   "file_extension": ".py",
   "mimetype": "text/x-python",
   "name": "python",
   "nbconvert_exporter": "python",
   "pygments_lexer": "ipython3",
   "version": "3.10.9"
  }
 },
 "nbformat": 4,
 "nbformat_minor": 5
}
